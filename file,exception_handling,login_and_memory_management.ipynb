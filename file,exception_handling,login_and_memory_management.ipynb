{
  "nbformat": 4,
  "nbformat_minor": 0,
  "metadata": {
    "colab": {
      "provenance": []
    },
    "kernelspec": {
      "name": "python3",
      "display_name": "Python 3"
    },
    "language_info": {
      "name": "python"
    }
  },
  "cells": [
    {
      "cell_type": "markdown",
      "source": [
        "# THEORY QUESTION"
      ],
      "metadata": {
        "id": "MdxRFQXYGBd-"
      }
    },
    {
      "cell_type": "markdown",
      "source": [
        "1. What is the difference between interpreted and compiled languages?\n",
        "- Interpreted languages execute code line by line (e.g., Python).\n",
        "\n",
        "- Compiled languages translate code into machine language before execution (e.g., C++).\n",
        "\n",
        "- Interpreted languages are more flexible, while compiled ones offer better performance."
      ],
      "metadata": {
        "id": "v7_J7T8v3Dww"
      }
    },
    {
      "cell_type": "markdown",
      "source": [
        "2. What is exception handling in Python?\n",
        "- Exception handling in Python allows a program to handle runtime errors gracefully using try, except, else, and finally blocks.\n",
        "\n"
      ],
      "metadata": {
        "id": "VA_jlXEJ3DtT"
      }
    },
    {
      "cell_type": "markdown",
      "source": [
        "3.  What is the purpose of the finally block in exception handling?\n",
        "- The finally block is used to define clean-up actions that must be executed under all circumstances, whether an exception occurred or not.\n",
        "\n"
      ],
      "metadata": {
        "id": "BGSvrGly3Dqz"
      }
    },
    {
      "cell_type": "markdown",
      "source": [
        "4. What is logging in Python?\n",
        "- Logging records messages during program execution to track events, errors, or behavior. Python’s logging module provides flexible logging functionality.\n",
        "\n"
      ],
      "metadata": {
        "id": "abUTgCh-3DoU"
      }
    },
    {
      "cell_type": "markdown",
      "source": [
        "5. What is the significance of the __ del__ method in Python?\n",
        "- The __ del__ method is a destructor, called when an object is about to be destroyed, useful for releasing resources like files or network connections.\n",
        "\n"
      ],
      "metadata": {
        "id": "vldaC5qD3Dl3"
      }
    },
    {
      "cell_type": "markdown",
      "source": [
        "6.What is the difference between import and from ... import in Python?\n",
        "- import module: imports the whole module (e.g., math.sin)\n",
        "\n",
        "- from module import name: imports specific functions/classes (e.g., sin directly)\n",
        "\n"
      ],
      "metadata": {
        "id": "xAVf_Ew23DjX"
      }
    },
    {
      "cell_type": "markdown",
      "source": [
        "7. How can you handle multiple exceptions in Python?\n",
        "- In Python, multiple exceptions can be handled using a single try block followed by multiple except blocks. Each except block can be designed to handle a specific type of exception.\n",
        "Eg- try:\n",
        "    # code\n",
        "except (TypeError, ValueError) as e:\n",
        "\n",
        "    print(e)\n"
      ],
      "metadata": {
        "id": "mbzXCJLt3Dgi"
      }
    },
    {
      "cell_type": "markdown",
      "source": [
        "8. What is the purpose of the with statement when handling files in Python?\n",
        "- It ensures proper acquisition and release of file resources, automatically closing the file even if exceptions occur.\n",
        "\n"
      ],
      "metadata": {
        "id": "dlcAhbRk3DeC"
      }
    },
    {
      "cell_type": "markdown",
      "source": [
        "9. What is the difference between multithreading and multiprocessing?\n",
        "- Multithreading: Multiple threads in a single process, sharing memory (better for I/O-bound tasks).\n",
        "\n",
        "- Multiprocessing: Multiple processes with separate memory (better for CPU-bound tasks).\n",
        "\n"
      ],
      "metadata": {
        "id": "l2YFKC0D3Dbd"
      }
    },
    {
      "cell_type": "markdown",
      "source": [
        "10. What are the advantages of using logging in a program?\n",
        "- Helps in debugging\n",
        "\n",
        "- Keeps a record of events\n",
        "\n",
        "- Assists in performance monitoring\n",
        "\n",
        "- Useful for post-mortem analysis of errors\n",
        "\n"
      ],
      "metadata": {
        "id": "rkHlMVzv3DYt"
      }
    },
    {
      "cell_type": "markdown",
      "source": [
        "11. What is memory management in Python?\n",
        "- Memory management in Python involves allocating and deallocating memory automatically using a private heap and garbage collection."
      ],
      "metadata": {
        "id": "no2n96j33DWI"
      }
    },
    {
      "cell_type": "markdown",
      "source": [
        "12. What are the basic steps involved in exception handling in Python?\n",
        "- The basic steps in exception handling are -\n",
        "1. Wrap risky code in a try block.\n",
        "\n",
        "2. Handle exceptions with one or more except blocks.\n",
        "\n",
        "3. Optionally use an else block for code that runs if no exceptions occur.\n",
        "\n",
        "4. Use finally for clean-up actions.\n",
        "\n"
      ],
      "metadata": {
        "id": "S-qdQDMq3DTr"
      }
    },
    {
      "cell_type": "markdown",
      "source": [
        "13. Why is memory management important in Python?\n",
        "- Efficient memory management is important because :\n",
        "\n",
        " Prevents memory leaks\n",
        "\n",
        " Improves performance\n",
        "\n",
        " Ensures optimal resource usage"
      ],
      "metadata": {
        "id": "Yk7jOShV3DQ6"
      }
    },
    {
      "cell_type": "markdown",
      "source": [
        "14. What is the role of try and except in exception handling?\n",
        "- try: Encloses code that might raise an exception.\n",
        "\n",
        "- except: Defines how to handle specific exceptions if they occur.\n",
        "\n"
      ],
      "metadata": {
        "id": "A3Mhc0-C3DOS"
      }
    },
    {
      "cell_type": "markdown",
      "source": [
        "15.  How does Python's garbage collection system work?\n",
        "- Python uses a hybrid garbage collection system that combines reference counting with generational garbage collection. Reference counting is the primary method, where objects are tracked by how many references point to them. When an object's reference count drops to zero, it's deallocated. Generational garbage collection complements this, dividing objects into generations based on their age and using a mark-and-sweep algorithm to identify and reclaim unreachable objects.\n",
        "\n",
        "\n",
        "\n"
      ],
      "metadata": {
        "id": "eDbL1HPB3DL4"
      }
    },
    {
      "cell_type": "markdown",
      "source": [
        "16. What is the purpose of the else block in exception handling?\n",
        "- The else block executes if no exception occurs in the try block, keeping normal and error-handling code separate.\n",
        "\n"
      ],
      "metadata": {
        "id": "4ubApwOZ3DJO"
      }
    },
    {
      "cell_type": "markdown",
      "source": [
        "17. What are the common logging levels in Python?\n",
        "- Common logging level in python are -\n",
        "\n",
        " 1. DEBUG\n",
        "\n",
        " 2. INFO\n",
        "\n",
        " 3. WARNING\n",
        "\n",
        " 4. ERROR\n",
        "\n",
        " 5. CRITICAL"
      ],
      "metadata": {
        "id": "m_cr3hy33DHB"
      }
    },
    {
      "cell_type": "markdown",
      "source": [
        "18. What is the difference between os.fork() and multiprocessing in Python?\n",
        "- os.fork() is Unix-specific, creates a child process by duplicating the parent.\n",
        "\n",
        "- multiprocessing is cross-platform and provides high-level APIs for process management."
      ],
      "metadata": {
        "id": "3M1GrBVX3DEL"
      }
    },
    {
      "cell_type": "markdown",
      "source": [
        "19. What is the importance of closing a file in Python?\n",
        "- Importance of closing a file :\n",
        "\n",
        "  Releases system resources\n",
        "\n",
        " Ensures all data is written (flushed) to disk\n",
        "\n",
        "  Prevents data corruption\n",
        "\n"
      ],
      "metadata": {
        "id": "NMFjWReg3DCM"
      }
    },
    {
      "cell_type": "markdown",
      "source": [
        "20. What is the difference between file.read() and file.readline() in Python?\n",
        "- The difference are -\n",
        "  \n",
        "  file.read(): Reads the entire file content.\n",
        "\n",
        "  file.readline(): Reads one line at a time."
      ],
      "metadata": {
        "id": "70iWh5jd3C_d"
      }
    },
    {
      "cell_type": "markdown",
      "source": [
        "21. What is the logging module in Python used for?\n",
        "- The logging module is used to track events that happen during program execution, supporting different log levels and output formats."
      ],
      "metadata": {
        "id": "LrHo2AWb3C88"
      }
    },
    {
      "cell_type": "markdown",
      "source": [
        "22. What is the os module in Python used for in file handling?\n",
        "- The os module helps in interacting with the operating system, such as file/directory creation, deletion, and path manipulation."
      ],
      "metadata": {
        "id": "D7e5Vb6V3C6W"
      }
    },
    {
      "cell_type": "markdown",
      "source": [
        "23. What are the challenges associated with memory management in Python?\n",
        "- Challenges associated with memory management are -\n",
        "\n",
        " Circular references\n",
        "\n",
        " Memory leaks in long-running processes\n",
        "\n",
        " Overhead of dynamic typing and object management"
      ],
      "metadata": {
        "id": "JEVJOezT3C3z"
      }
    },
    {
      "cell_type": "markdown",
      "source": [
        "24. How do you raise an exception manually in Python?\n",
        "- In Python, exceptions are raised manually using the raise keyword.\n",
        "  The basic syntax for raising an exception is:\n",
        "  \n",
        "  raise ExceptionType(\"Error message\")\n"
      ],
      "metadata": {
        "id": "DX3z2jxe3C1b"
      }
    },
    {
      "cell_type": "markdown",
      "source": [
        "25. Why is it important to use multithreading in certain applications?\n",
        "- Multithreading is useful for:\n",
        "\n",
        " Improving responsiveness in I/O-bound programs\n",
        "\n",
        " Concurrent tasks like downloading files, user input handling\n",
        "\n",
        " Reducing idle time during waiting operations"
      ],
      "metadata": {
        "id": "Uj-ZUOVk3Cwx"
      }
    },
    {
      "cell_type": "markdown",
      "source": [
        "# PRACTICAL QUESTION"
      ],
      "metadata": {
        "id": "dww2Xkz_3Cut"
      }
    },
    {
      "cell_type": "code",
      "source": [
        "# 1. How can you open a file for writing in Python and write a string to it\n",
        "with open(\"sample.txt\", \"w\") as file:\n",
        "  f.write(\"Hello, World!\")\n",
        "\n",
        "# Output: A file sample.txt is created with the text."
      ],
      "metadata": {
        "id": "lP-jXRrjF8_O"
      },
      "execution_count": null,
      "outputs": []
    },
    {
      "cell_type": "code",
      "source": [
        "\n",
        "# 2.  Read Contents and Print Each Line\n",
        "with open(\"sample.txt\", \"r\") as file:\n",
        "    for line in file:\n",
        "        print(line.strip())\n",
        "\n",
        "#output :Hello,World!.\n"
      ],
      "metadata": {
        "id": "GiD_rupKF87t"
      },
      "execution_count": null,
      "outputs": []
    },
    {
      "cell_type": "code",
      "source": [
        "#3. How would you handle a case where the file doesn't exist while trying to open it for reading\n",
        "try:\n",
        "    with open(\"not_exist.txt\", \"r\") as file:\n",
        "        content = file.read()\n",
        "except FileNotFoundError:\n",
        "    print(\"File not found.\")\n",
        "\n",
        "#output: File not found.\n"
      ],
      "metadata": {
        "id": "J_AFj5RqF83O"
      },
      "execution_count": null,
      "outputs": []
    },
    {
      "cell_type": "code",
      "source": [
        "#4.Write a Python script that reads from one file and writes its content to another fileF\n",
        "## Read from source.txt and write to destination.txt\n",
        "\n",
        "try\n",
        " with open(\"source.txt\", \"r\") as source_file:\n",
        "        content = source_file.read()\n",
        "\n",
        "\n",
        "  with open(\"destination.txt\", \"w\") as destination_file:\n",
        "        destination_file.write(content)\n",
        "\n",
        "    print(\"File copied successfully.\")\n",
        "\n",
        "except FileNotFoundError:\n",
        "    print(\"Source file not found.\")\n"
      ],
      "metadata": {
        "id": "zhMoeZccF80w"
      },
      "execution_count": null,
      "outputs": []
    },
    {
      "cell_type": "code",
      "source": [
        "#5. How would you catch and handle division by zero error in Python\n",
        "try:\n",
        "    result = 10 / 0\n",
        "except ZeroDivisionError:\n",
        "    print(\"Cannot divide by zero.\")\n",
        "#output: Cannot divide by zero.\n"
      ],
      "metadata": {
        "id": "wGW560ZtF8yD"
      },
      "execution_count": null,
      "outputs": []
    },
    {
      "cell_type": "code",
      "source": [
        "#6. Write a Python program that logs an error message to a log file when a division by zero exception occurs\n",
        "import logging\n",
        "\n",
        "logging.basicConfig(filename=\"errors.log\", level=logging.ERROR)\n",
        "\n",
        "try:\n",
        "    result = 10 / 0\n",
        "except ZeroDivisionError as e:\n",
        "    logging.error(\"Division by zero error occurred: %s\", e)\n",
        "\n",
        "#Output: Error logged to errors.log.\n",
        "\n"
      ],
      "metadata": {
        "id": "7tyvi7lYF8vs"
      },
      "execution_count": null,
      "outputs": []
    },
    {
      "cell_type": "code",
      "source": [
        "#7. How do you log information at different levels (INFO, ERROR, WARNING) in Python using the logging module\n",
        "import logging\n",
        "\n",
        "logging.basicConfig(level=logging.DEBUG)\n",
        "\n",
        "logging.info(\"This is an info message.\")\n",
        "logging.warning(\"This is a warning.\")\n",
        "logging.error(\"This is an error.\")\n",
        "\n",
        "#output: INFO:root:This is an info message.\n",
        "WARNING:root:This is a warning.\n",
        "ERROR:root:This is an error.\n"
      ],
      "metadata": {
        "id": "rOhWXWE4F8tW"
      },
      "execution_count": null,
      "outputs": []
    },
    {
      "cell_type": "code",
      "source": [
        "#8. Write a program to handle a file opening error using exception handling\n",
        "try:\n",
        "    with open(\"unknown.txt\", \"r\") as f:\n",
        "        print(f.read())\n",
        "except FileNotFoundError:\n",
        "    print(\"File does not exist.\")\n",
        "\n",
        "#output:File does not exist.\n"
      ],
      "metadata": {
        "id": "84En8OhmF8qu"
      },
      "execution_count": null,
      "outputs": []
    },
    {
      "cell_type": "code",
      "source": [
        "#9.  How can you read a file line by line and store its content in a list in Python\n",
        "with open(\"sample.txt\", \"r\") as f:\n",
        "    lines = [line.strip() for line in f]\n",
        "\n",
        "print(lines)\n",
        "\n",
        "#output: ['Hello, this is a test.']\n"
      ],
      "metadata": {
        "id": "3eumtUF_F8nN"
      },
      "execution_count": null,
      "outputs": []
    },
    {
      "cell_type": "code",
      "source": [
        "#10. How can you append data to an existing file in Python\n",
        "with open(\"sample.txt\", \"a\") as f:\n",
        "    f.write(\"\\nAppending another line.\")\n",
        "#output: New line added to sample.txt.\n",
        "\n"
      ],
      "metadata": {
        "id": "xSp0RFPZF8k-"
      },
      "execution_count": null,
      "outputs": []
    },
    {
      "cell_type": "code",
      "source": [
        "#11. Write a Python program that uses a try-except block to handle an error when attempting to access a dictionary key that doesn't exist.\n",
        "data = {\"name\": \"Alice\"}\n",
        "\n",
        "try:\n",
        "    print(data[\"age\"])\n",
        "except KeyError:\n",
        "    print(\"Key not found.\")\n",
        "\n",
        "#output: Key not found.\n"
      ],
      "metadata": {
        "id": "srZlEJ6DF8jA"
      },
      "execution_count": null,
      "outputs": []
    },
    {
      "cell_type": "code",
      "source": [
        "#12. Write a program that demonstrates using multiple except blocks to handle different types of exceptions\n",
        "\n",
        "try:\n",
        "    lst = [1, 2, 3]\n",
        "    print(lst[5])\n",
        "    print(10 / 0)\n",
        "except IndexError:\n",
        "    print(\"Index out of range.\")\n",
        "except ZeroDivisionError:\n",
        "    print(\"Division by zero.\")\n",
        "\n",
        "#output:Index out of range.\n"
      ],
      "metadata": {
        "id": "Echtnf-MF8gX"
      },
      "execution_count": null,
      "outputs": []
    },
    {
      "cell_type": "code",
      "source": [
        "#13. How would you check if a file exists before attempting to read it in Python\n",
        "import os\n",
        "\n",
        "if os.path.exists(\"sample.txt\"):\n",
        "    print(\"File exists.\")\n",
        "else:\n",
        "    print(\"File does not exist.\")\n",
        "#Output:File exists.\n"
      ],
      "metadata": {
        "id": "DkDnJ3UcF8dc"
      },
      "execution_count": null,
      "outputs": []
    },
    {
      "cell_type": "code",
      "source": [
        "#14. Write a program that uses the logging module to log both informational and error messages\n",
        "import logging\n",
        "\n",
        "logging.basicConfig(filename=\"app.log\", level=logging.INFO)\n",
        "\n",
        "logging.info(\"Program started.\")\n",
        "try:\n",
        "    10 / 0\n",
        "except ZeroDivisionError:\n",
        "    logging.error(\"Error occurred: Division by zero.\")\n",
        "#Output: Logs saved in app.log.\n",
        "\n"
      ],
      "metadata": {
        "id": "r70d68c3F8at"
      },
      "execution_count": null,
      "outputs": []
    },
    {
      "cell_type": "code",
      "source": [
        "#15. Write a Python program that prints the content of a file and handles the case when the file is empty\n",
        "with open(\"empty.txt\", \"r\") as f:\n",
        "    content = f.read()\n",
        "    if not content:\n",
        "        print(\"File is empty.\")\n",
        "    else:\n",
        "        print(content)\n",
        "#output: File is empty.\n"
      ],
      "metadata": {
        "id": "jxE0sJdjF8YS"
      },
      "execution_count": null,
      "outputs": []
    },
    {
      "cell_type": "code",
      "source": [
        "#16. Demonstrate how to use memory profiling to check the memory usage of a small program\n",
        "# Install with: pip install memory-profiler\n",
        "from memory_profiler import profile\n",
        "\n",
        "@profile\n",
        "def memory_test():\n",
        "    a = [i for i in range(10000)]\n",
        "    return sum(a)\n",
        "\n",
        "memory_test()\n",
        "\n",
        "#Output: Line-by-line memory usage (run with python -m memory_profiler script.py)\n",
        "\n"
      ],
      "metadata": {
        "id": "n8imKCUjF8WE"
      },
      "execution_count": null,
      "outputs": []
    },
    {
      "cell_type": "code",
      "source": [
        "#17. Write a Python program to create and write a list of numbers to a file, one number per line\n",
        "numbers = list(range(1, 6))\n",
        "\n",
        "with open(\"numbers.txt\", \"w\") as f:\n",
        "    for num in numbers:\n",
        "        f.write(f\"{num}\\n\")\n",
        "\n",
        "#Output: numbers.txt contains numbers 1 to 5.\n",
        "\n"
      ],
      "metadata": {
        "id": "C1OWHI_jF8TD"
      },
      "execution_count": null,
      "outputs": []
    },
    {
      "cell_type": "code",
      "source": [
        "#18. How would you implement a basic logging setup that logs to a file with rotation after 1MB\n",
        "import logging\n",
        "from logging.handlers import RotatingFileHandler\n",
        "\n",
        "handler = RotatingFileHandler(\"rotated.log\", maxBytes=1024*1024, backupCount=3)\n",
        "logging.basicConfig(handlers=[handler], level=logging.INFO)\n",
        "\n",
        "for i in range(10000):\n",
        "    logging.info(\"Line %d\", i)\n",
        "\n",
        "#Output: Rotates log file after 1MB.\n",
        "\n"
      ],
      "metadata": {
        "id": "2YlBE4ZHF8Q_"
      },
      "execution_count": null,
      "outputs": []
    },
    {
      "cell_type": "code",
      "source": [
        "#19. Write a program that handles both IndexError and KeyError using a try-except block\n",
        "try:\n",
        "    lst = [1, 2]\n",
        "    print(lst[10])\n",
        "    d = {}\n",
        "    print(d[\"key\"])\n",
        "except IndexError:\n",
        "    print(\"List index out of range.\")\n",
        "except KeyError:\n",
        "    print(\"Key not found.\")\n",
        "\n",
        "#output:List index out of range.\n"
      ],
      "metadata": {
        "id": "iQz6pffJF8NM"
      },
      "execution_count": null,
      "outputs": []
    },
    {
      "cell_type": "code",
      "source": [
        "#20. How would you open a file and read its contents using a context manager in Python\n",
        "with open(\"sample.txt\", \"r\") as f:\n",
        "    content = f.read()\n",
        "    print(content)\n",
        "\n",
        "#Output: Contents of sample.txt.\n",
        "\n",
        "\n"
      ],
      "metadata": {
        "id": "Ta3X_L0OF8La"
      },
      "execution_count": null,
      "outputs": []
    },
    {
      "cell_type": "code",
      "source": [
        "#21. Write a Python program that reads a file and prints the number of occurrences of a specific word\n",
        "\n",
        "word_to_count = \"test\"\n",
        "count = 0\n",
        "\n",
        "with open(\"sample.txt\", \"r\") as f:\n",
        "    for line in f:\n",
        "        count += line.lower().count(word_to_count)\n",
        "\n",
        "print(f\"The word '{word_to_count}' occurred {count} times.\")\n",
        "\n",
        " #output: The word 'test' occurred 1 times.\n"
      ],
      "metadata": {
        "id": "JEWcT6S-F8Iy"
      },
      "execution_count": null,
      "outputs": []
    },
    {
      "cell_type": "code",
      "source": [
        "#22. How can you check if a file is empty before attempting to read its contents\n",
        "import os\n",
        "\n",
        "if os.path.getsize(\"sample.txt\") == 0:\n",
        "    print(\"File is empty.\")\n",
        "else:\n",
        "    print(\"File is not empty.\")\n",
        "\n",
        "#output: File is not empty.\n"
      ],
      "metadata": {
        "id": "ZokAtiBoF8GN"
      },
      "execution_count": null,
      "outputs": []
    },
    {
      "cell_type": "code",
      "source": [
        "#23. Write a Python program that writes to a log file when an error occurs during file handling.\n",
        "import logging\n",
        "\n",
        "logging.basicConfig(filename=\"file_errors.log\", level=logging.ERROR)\n",
        "\n",
        "try:\n",
        "    with open(\"missing.txt\", \"r\") as f:\n",
        "        data = f.read()\n",
        "except Exception as e:\n",
        "    logging.error(\"Error opening file: %s\", e)\n",
        "\n",
        "#Output: Logs error in file_errors.log.\n",
        "\n"
      ],
      "metadata": {
        "id": "sFFA-fnHF8Dz"
      },
      "execution_count": null,
      "outputs": []
    },
    {
      "cell_type": "code",
      "source": [],
      "metadata": {
        "id": "zTtfUNFWF8Bn"
      },
      "execution_count": null,
      "outputs": []
    },
    {
      "cell_type": "code",
      "source": [],
      "metadata": {
        "id": "wySDFC9vF7_B"
      },
      "execution_count": null,
      "outputs": []
    },
    {
      "cell_type": "code",
      "source": [],
      "metadata": {
        "id": "c0wtEgndF78e"
      },
      "execution_count": null,
      "outputs": []
    },
    {
      "cell_type": "code",
      "source": [],
      "metadata": {
        "id": "-FoJ6vUnF76H"
      },
      "execution_count": null,
      "outputs": []
    },
    {
      "cell_type": "code",
      "source": [],
      "metadata": {
        "id": "9v04t8JuF73g"
      },
      "execution_count": null,
      "outputs": []
    },
    {
      "cell_type": "code",
      "source": [],
      "metadata": {
        "id": "LlBKmL2uF71D"
      },
      "execution_count": null,
      "outputs": []
    },
    {
      "cell_type": "code",
      "source": [],
      "metadata": {
        "id": "BbcPeSiWF7hM"
      },
      "execution_count": null,
      "outputs": []
    }
  ]
}